{
  "cells": [
    {
      "cell_type": "code",
      "execution_count": 1,
      "metadata": {
        "id": "p80CxLHhzFb6"
      },
      "outputs": [],
      "source": [
        "import pandas as pd\n",
        "import numpy as np\n",
        "import multiprocessing\n",
        "from joblib import Parallel, delayed"
      ]
    },
    {
      "cell_type": "markdown",
      "metadata": {
        "id": "Q06iHs0R3yS8"
      },
      "source": [
        "# Opérations de traitements\n"
      ]
    },
    {
      "cell_type": "code",
      "execution_count": 2,
      "metadata": {
        "id": "55p0KUnmGFo1"
      },
      "outputs": [],
      "source": [
        "def clean_df(df:pd.DataFrame)->pd.DataFrame:\n",
        "  df=df.drop(columns=['ancien_code_commune','ancien_nom_commune','ancien_id_parcelle'])\n",
        "  # Elimination des locaux industriels et commerciaux\n",
        "  # mutation_commerciale=df[df.code_type_local==4].id_mutation\n",
        "  # df=df[~df.id_mutation.isin(mutation_commerciale)]\n",
        "  coltofill=['valeur_fonciere','nombre_pieces_principales','surface_reelle_bati',\n",
        "            'surface_terrain','lot1_surface_carrez','lot2_surface_carrez',\n",
        "            'lot3_surface_carrez','lot4_surface_carrez','lot5_surface_carrez',\n",
        "            'lot1_numero','lot2_numero','lot3_numero','lot4_numero','lot5_numero',\n",
        "            'adresse_numero','code_postal','numero_volume','longitude','latitude']\n",
        "  df[coltofill]=df[coltofill].fillna(0)\n",
        "  df['code_type_local']=df['code_type_local'].fillna(3)\n",
        "  df['type_local']=df['type_local'].fillna('Dépendance')\n",
        "\n",
        "  coltofill=['adresse_nom_voie','adresse_code_voie','code_nature_culture',\n",
        "            'adresse_suffixe','nature_culture','code_nature_culture_speciale',\n",
        "            'nature_culture_speciale']\n",
        "  df[coltofill]=df[coltofill].fillna('<EMPTY>')\n",
        "  return df\n"
      ]
    },
    {
      "cell_type": "markdown",
      "metadata": {},
      "source": [
        "# Fonctions de transformations des données en version linéarisée"
      ]
    },
    {
      "cell_type": "code",
      "execution_count": 81,
      "metadata": {
        "id": "WICFOGCkIncd"
      },
      "outputs": [],
      "source": [
        "alt_df_cols=[\n",
        "             \"id_mutation\",\n",
        "             'jour_mutation',\n",
        "             'mois_mutation',\n",
        "             'annee_mutation',\n",
        "             \"nature_mutation\",\n",
        "             \"valeur_fonciere\",\n",
        "             \"adresse_numero\",\n",
        "             \"adresse_suffixe\",\n",
        "             'adresse_nom_voie',\n",
        "             'adresse_code_voie',\n",
        "             'code_postal',\n",
        "             'nom_commune',\n",
        "             'code_departement',\n",
        "             'id_parcelle',\n",
        "             'surface_carrez_total',\n",
        "             'surface_reelle_bati_total',\n",
        "             'surface_terrain_total',\n",
        "             'nombre_lots',\n",
        "             'nombre_maisons',\n",
        "             'surface_carrez_maisons',\n",
        "             'surface_reelle_bati_maisons',\n",
        "             'surface_terrain_maisons',\n",
        "             'nombre_appartements',\n",
        "             'surface_carrez_appartements',\n",
        "             'surface_reelle_bati_appartements',\n",
        "             'surface_terrain_appartements',\n",
        "             'nombre_dependances',\n",
        "             'surface_carrez_dependances',\n",
        "             'surface_reelle_bati_dependances',\n",
        "             'surface_terrain_dependances',\n",
        "             'nombre_pieces_principales',\n",
        "             'nature_culture',\n",
        "             'nature_culture_speciale',\n",
        "             'longitude',\n",
        "             'latitude',\n",
        "]\n",
        "\n",
        "def reduce_get_id(df:pd.DataFrame)->int:\n",
        "  type_count=df.code_type_local.value_counts()\n",
        "  if 1 in type_count:\n",
        "    #Maison\n",
        "    if type_count[1]==1:\n",
        "      return df.index.get_loc(df.index[df.code_type_local==1][0])\n",
        "    else:\n",
        "      return np.argmax(df.surface_reelle_bati)\n",
        "  elif 2 in type_count:\n",
        "    # Appartement\n",
        "    if type_count[2]==1:\n",
        "      return df.index.get_loc(df.index[df.code_type_local==2][0])\n",
        "    else:\n",
        "      return np.argmax(df.surface_reelle_bati)\n",
        "  return np.argmax(df.surface_reelle_bati)\n",
        "\n",
        "\n",
        "def fusion_data(df:pd.DataFrame)->pd.Series:\n",
        "  iprinc=reduce_get_id(df)\n",
        "  mut_princ=df.iloc[iprinc]\n",
        "  values=[]\n",
        "  # id_mutation\n",
        "  values.append(mut_princ.id_mutation)\n",
        "  date=mut_princ.date_mutation.split('-')\n",
        "  # jour_mutation\n",
        "  values.append(date[2])\n",
        "  # mois_mutation\n",
        "  values.append(date[1])\n",
        "  # annee_mutation\n",
        "  values.append(date[0])\n",
        "  # nature_mutation\n",
        "  values.append(mut_princ.nature_mutation)\n",
        "  # valeur_fonciere\n",
        "  values.append(mut_princ.valeur_fonciere)\n",
        "  # adresse_numero\n",
        "  values.append(mut_princ.adresse_numero)\n",
        "  # adresse_suffixe\n",
        "  values.append(mut_princ.adresse_suffixe)\n",
        "  # adresse_nom_voie\n",
        "  values.append(mut_princ.adresse_nom_voie)\n",
        "  # adresse_code_voie\n",
        "  values.append(mut_princ.adresse_code_voie)\n",
        "  # code_postal\n",
        "  values.append(mut_princ.code_postal)\n",
        "  # nom_commune\n",
        "  values.append(mut_princ.nom_commune)\n",
        "  # code_departement\n",
        "  values.append(mut_princ.code_departement)\n",
        "  # id_parcelle\n",
        "  values.append(mut_princ.id_parcelle)\n",
        "  # surface_carrez_total\n",
        "  cols_carrez=['lot1_surface_carrez','lot2_surface_carrez','lot3_surface_carrez','lot4_surface_carrez','lot5_surface_carrez']\n",
        "  values.append(df[cols_carrez].sum().sum())\n",
        "  # surface_reelle_bati_total\n",
        "  values.append(df.surface_reelle_bati.sum())\n",
        "  # surface_terrain_total\n",
        "  values.append(df.surface_terrain.sum())\n",
        "  # nombre_lots\n",
        "  values.append(df.nombre_lots.sum())\n",
        "  # nombre_maisons\n",
        "  # surface_carrez_maisons\n",
        "  # surface_reelle_bati_maisons\n",
        "  # surface_terrain_maisons\n",
        "  def surface_divide(indice:int):\n",
        "    # nombre_local\n",
        "    type_locaux=df.code_type_local.value_counts()\n",
        "    values.append(0 if indice not in type_locaux else type_locaux[indice])\n",
        "    # surface_carrez_local\n",
        "    values.append(df[df.code_type_local==indice][cols_carrez].sum().sum())\n",
        "    # surface_reelle_bati_local\n",
        "    values.append(df[df.code_type_local==indice].surface_reelle_bati.sum().sum())\n",
        "    # surface_terrain_local\n",
        "    values.append(df[df.code_type_local==indice].surface_terrain.sum().sum())\n",
        "  surface_divide(1)\n",
        "  # nombre_appartements\n",
        "  # surface_carrez_appartements\n",
        "  # surface_reelle_bati_appartements\n",
        "  # surface_terrain_appartements\n",
        "  surface_divide(2)\n",
        "  # nombre_dependences\n",
        "  # surface_carrez_dependences\n",
        "  # surface_reelle_bati_dependences\n",
        "  # surface_terrain_dependences\n",
        "  surface_divide(3)\n",
        "  # nombre_pieces_principales\n",
        "  values.append(df.nombre_pieces_principales.sum())\n",
        "  # nature_culture\n",
        "  values.append(mut_princ.nature_culture)\n",
        "  # nature_culture_speciale\n",
        "  values.append(mut_princ.nature_culture_speciale)\n",
        "  # longitude\n",
        "  values.append(mut_princ.longitude)\n",
        "  # latitude\n",
        "  values.append(mut_princ.latitude)\n",
        "  return pd.Series({ k:v for k,v in zip(alt_df_cols,values)}, index=alt_df_cols)\n",
        "\n",
        "def applyParallel(dfGrouped, func):\n",
        "    retLst = Parallel(n_jobs=multiprocessing.cpu_count())(delayed(func)(group) for _, group in dfGrouped)\n",
        "    return pd.DataFrame(retLst,columns=alt_df_cols)\n"
      ]
    },
    {
      "cell_type": "markdown",
      "metadata": {},
      "source": [
        "# Traitements des CSV"
      ]
    },
    {
      "cell_type": "code",
      "execution_count": 190,
      "metadata": {
        "colab": {
          "base_uri": "https://localhost:8080/"
        },
        "id": "pfaG0BajmEhD",
        "outputId": "d45080ec-07a6-432b-aa26-a6e4973d4da3"
      },
      "outputs": [
        {
          "name": "stdout",
          "output_type": "stream",
          "text": [
            "2020\n"
          ]
        },
        {
          "name": "stderr",
          "output_type": "stream",
          "text": [
            "C:\\Users\\Romain\\AppData\\Local\\pypoetry\\Cache\\virtualenvs\\dvf-rJvO6ggo-py3.9\\lib\\site-packages\\IPython\\core\\interactiveshell.py:3441: DtypeWarning: Columns (10,12,17,18,20,22,24,35,36) have mixed types.Specify dtype option on import or set low_memory=False.\n",
            "  exec(code_obj, self.user_global_ns, self.user_ns)\n"
          ]
        },
        {
          "name": "stdout",
          "output_type": "stream",
          "text": [
            "2021\n"
          ]
        }
      ],
      "source": [
        "for i,annee in enumerate(range(2020,2022)):\n",
        "  if i ==0:\n",
        "    df=pd.read_csv(f\"original/{annee}.csv\",encoding='utf8')\n",
        "    df=clean_df(df)\n",
        "  else:\n",
        "    df2=pd.read_csv(f\"original/{annee}.csv\",encoding='utf8')\n",
        "    df2=clean_df(df2)\n",
        "    df=pd.concat([df,df2])\n",
        "    \n",
        "  print(annee)\n",
        "  # new_df=applyParallel(df.groupby(\"id_mutation\"), fusion_data)\n",
        "  # new_df=df.groupby(\"id_mutation\").apply(fusion_data)\n",
        "  # new_df=new_df.set_index(\"id_mutation\")\n",
        "  # new_df.to_csv(f'clean_data/{annee}_cleaned.csv',encoding='utf8')\n",
        "  "
      ]
    },
    {
      "cell_type": "code",
      "execution_count": 99,
      "metadata": {},
      "outputs": [
        {
          "data": {
            "text/plain": [
              "Index(['id_mutation', 'date_mutation', 'numero_disposition', 'nature_mutation',\n",
              "       'valeur_fonciere', 'adresse_numero', 'adresse_suffixe',\n",
              "       'adresse_nom_voie', 'adresse_code_voie', 'code_postal', 'code_commune',\n",
              "       'nom_commune', 'code_departement', 'id_parcelle', 'numero_volume',\n",
              "       'lot1_numero', 'lot1_surface_carrez', 'lot2_numero',\n",
              "       'lot2_surface_carrez', 'lot3_numero', 'lot3_surface_carrez',\n",
              "       'lot4_numero', 'lot4_surface_carrez', 'lot5_numero',\n",
              "       'lot5_surface_carrez', 'nombre_lots', 'code_type_local', 'type_local',\n",
              "       'surface_reelle_bati', 'nombre_pieces_principales',\n",
              "       'code_nature_culture', 'nature_culture', 'code_nature_culture_speciale',\n",
              "       'nature_culture_speciale', 'surface_terrain', 'longitude', 'latitude'],\n",
              "      dtype='object')"
            ]
          },
          "execution_count": 99,
          "metadata": {},
          "output_type": "execute_result"
        }
      ],
      "source": [
        "df.columns"
      ]
    },
    {
      "cell_type": "code",
      "execution_count": 200,
      "metadata": {},
      "outputs": [
        {
          "data": {
            "text/plain": [
              "3911.5275142314995"
            ]
          },
          "execution_count": 200,
          "metadata": {},
          "output_type": "execute_result"
        }
      ],
      "source": [
        "data=df#[df.code_type_local==4]\n",
        "data=data[data.nom_commune=='Nantes']\n",
        "# data=data[data.id_parcelle.str.contains('MR')]\n",
        "data=data[data.surface_reelle_bati>0]\n",
        "# data=data[data.code_postal!=44000]\n",
        "source=data.copy()\n",
        "# data=data.groupby('id_mutation').agg({'valeur_fonciere':'mean','surface_reelle_bati':'sum'})\n",
        "data[\"prix_m2\"]=data.valeur_fonciere/data.surface_reelle_bati\n",
        "cols=['id_mutation','date_mutation','adresse_numero','adresse_nom_voie','valeur_fonciere','lot1_surface_carrez','lot2_surface_carrez','lot3_surface_carrez','surface_reelle_bati','code_postal','prix_m2']\n",
        "(data.valeur_fonciere/data.surface_reelle_bati).median()"
      ]
    },
    {
      "cell_type": "code",
      "execution_count": 194,
      "metadata": {},
      "outputs": [
        {
          "data": {
            "text/plain": [
              "'2021-06-30'"
            ]
          },
          "execution_count": 194,
          "metadata": {},
          "output_type": "execute_result"
        }
      ],
      "source": [
        "data.date_mutation.max()\n",
        "# df[df.id_mutation=='2020-553209']"
      ]
    },
    {
      "cell_type": "code",
      "execution_count": 201,
      "metadata": {},
      "outputs": [
        {
          "data": {
            "text/html": [
              "<div>\n",
              "<style scoped>\n",
              "    .dataframe tbody tr th:only-of-type {\n",
              "        vertical-align: middle;\n",
              "    }\n",
              "\n",
              "    .dataframe tbody tr th {\n",
              "        vertical-align: top;\n",
              "    }\n",
              "\n",
              "    .dataframe thead th {\n",
              "        text-align: right;\n",
              "    }\n",
              "</style>\n",
              "<table border=\"1\" class=\"dataframe\">\n",
              "  <thead>\n",
              "    <tr style=\"text-align: right;\">\n",
              "      <th></th>\n",
              "      <th>id_mutation</th>\n",
              "      <th>date_mutation</th>\n",
              "      <th>adresse_numero</th>\n",
              "      <th>adresse_nom_voie</th>\n",
              "      <th>valeur_fonciere</th>\n",
              "      <th>lot1_surface_carrez</th>\n",
              "      <th>lot2_surface_carrez</th>\n",
              "      <th>lot3_surface_carrez</th>\n",
              "      <th>surface_reelle_bati</th>\n",
              "      <th>code_postal</th>\n",
              "      <th>prix_m2</th>\n",
              "    </tr>\n",
              "  </thead>\n",
              "  <tbody>\n",
              "    <tr>\n",
              "      <th>1364226</th>\n",
              "      <td>2020-555610</td>\n",
              "      <td>2020-05-11</td>\n",
              "      <td>2.0</td>\n",
              "      <td>RLE DU MONT GOGUET</td>\n",
              "      <td>370000.0</td>\n",
              "      <td>75.06</td>\n",
              "      <td>0.0</td>\n",
              "      <td>0.0</td>\n",
              "      <td>75.0</td>\n",
              "      <td>44000.0</td>\n",
              "      <td>4933.333333</td>\n",
              "    </tr>\n",
              "    <tr>\n",
              "      <th>1373748</th>\n",
              "      <td>2020-560975</td>\n",
              "      <td>2020-11-10</td>\n",
              "      <td>5.0</td>\n",
              "      <td>RUE DU MONT GOGUET</td>\n",
              "      <td>155000.0</td>\n",
              "      <td>32.77</td>\n",
              "      <td>0.0</td>\n",
              "      <td>0.0</td>\n",
              "      <td>35.0</td>\n",
              "      <td>44000.0</td>\n",
              "      <td>4428.571429</td>\n",
              "    </tr>\n",
              "    <tr>\n",
              "      <th>1376531</th>\n",
              "      <td>2020-562423</td>\n",
              "      <td>2020-12-16</td>\n",
              "      <td>5.0</td>\n",
              "      <td>RUE DU MONT GOGUET</td>\n",
              "      <td>90000.0</td>\n",
              "      <td>17.36</td>\n",
              "      <td>0.0</td>\n",
              "      <td>0.0</td>\n",
              "      <td>14.0</td>\n",
              "      <td>44000.0</td>\n",
              "      <td>6428.571429</td>\n",
              "    </tr>\n",
              "    <tr>\n",
              "      <th>1376819</th>\n",
              "      <td>2020-562591</td>\n",
              "      <td>2020-12-21</td>\n",
              "      <td>3.0</td>\n",
              "      <td>RUE DU MONT GOGUET</td>\n",
              "      <td>440000.0</td>\n",
              "      <td>0.00</td>\n",
              "      <td>0.0</td>\n",
              "      <td>0.0</td>\n",
              "      <td>88.0</td>\n",
              "      <td>44000.0</td>\n",
              "      <td>5000.000000</td>\n",
              "    </tr>\n",
              "    <tr>\n",
              "      <th>1376990</th>\n",
              "      <td>2020-562679</td>\n",
              "      <td>2020-12-29</td>\n",
              "      <td>15.0</td>\n",
              "      <td>RUE DU MONT GOGUET</td>\n",
              "      <td>300000.0</td>\n",
              "      <td>0.00</td>\n",
              "      <td>0.0</td>\n",
              "      <td>0.0</td>\n",
              "      <td>20.0</td>\n",
              "      <td>44000.0</td>\n",
              "      <td>15000.000000</td>\n",
              "    </tr>\n",
              "    <tr>\n",
              "      <th>1376991</th>\n",
              "      <td>2020-562679</td>\n",
              "      <td>2020-12-29</td>\n",
              "      <td>15.0</td>\n",
              "      <td>RUE DU MONT GOGUET</td>\n",
              "      <td>300000.0</td>\n",
              "      <td>0.00</td>\n",
              "      <td>0.0</td>\n",
              "      <td>0.0</td>\n",
              "      <td>23.0</td>\n",
              "      <td>44000.0</td>\n",
              "      <td>13043.478261</td>\n",
              "    </tr>\n",
              "    <tr>\n",
              "      <th>1376992</th>\n",
              "      <td>2020-562679</td>\n",
              "      <td>2020-12-29</td>\n",
              "      <td>15.0</td>\n",
              "      <td>RUE DU MONT GOGUET</td>\n",
              "      <td>300000.0</td>\n",
              "      <td>0.00</td>\n",
              "      <td>0.0</td>\n",
              "      <td>0.0</td>\n",
              "      <td>20.0</td>\n",
              "      <td>44000.0</td>\n",
              "      <td>15000.000000</td>\n",
              "    </tr>\n",
              "    <tr>\n",
              "      <th>1376993</th>\n",
              "      <td>2020-562679</td>\n",
              "      <td>2020-12-29</td>\n",
              "      <td>15.0</td>\n",
              "      <td>RUE DU MONT GOGUET</td>\n",
              "      <td>300000.0</td>\n",
              "      <td>0.00</td>\n",
              "      <td>0.0</td>\n",
              "      <td>0.0</td>\n",
              "      <td>25.0</td>\n",
              "      <td>44000.0</td>\n",
              "      <td>12000.000000</td>\n",
              "    </tr>\n",
              "    <tr>\n",
              "      <th>485340</th>\n",
              "      <td>2021-191840</td>\n",
              "      <td>2021-02-25</td>\n",
              "      <td>5.0</td>\n",
              "      <td>RUE DU MONT GOGUET</td>\n",
              "      <td>120000.0</td>\n",
              "      <td>26.73</td>\n",
              "      <td>0.0</td>\n",
              "      <td>0.0</td>\n",
              "      <td>28.0</td>\n",
              "      <td>44000.0</td>\n",
              "      <td>4285.714286</td>\n",
              "    </tr>\n",
              "  </tbody>\n",
              "</table>\n",
              "</div>"
            ],
            "text/plain": [
              "         id_mutation date_mutation  adresse_numero    adresse_nom_voie  \\\n",
              "1364226  2020-555610    2020-05-11             2.0  RLE DU MONT GOGUET   \n",
              "1373748  2020-560975    2020-11-10             5.0  RUE DU MONT GOGUET   \n",
              "1376531  2020-562423    2020-12-16             5.0  RUE DU MONT GOGUET   \n",
              "1376819  2020-562591    2020-12-21             3.0  RUE DU MONT GOGUET   \n",
              "1376990  2020-562679    2020-12-29            15.0  RUE DU MONT GOGUET   \n",
              "1376991  2020-562679    2020-12-29            15.0  RUE DU MONT GOGUET   \n",
              "1376992  2020-562679    2020-12-29            15.0  RUE DU MONT GOGUET   \n",
              "1376993  2020-562679    2020-12-29            15.0  RUE DU MONT GOGUET   \n",
              "485340   2021-191840    2021-02-25             5.0  RUE DU MONT GOGUET   \n",
              "\n",
              "         valeur_fonciere  lot1_surface_carrez  lot2_surface_carrez  \\\n",
              "1364226         370000.0                75.06                  0.0   \n",
              "1373748         155000.0                32.77                  0.0   \n",
              "1376531          90000.0                17.36                  0.0   \n",
              "1376819         440000.0                 0.00                  0.0   \n",
              "1376990         300000.0                 0.00                  0.0   \n",
              "1376991         300000.0                 0.00                  0.0   \n",
              "1376992         300000.0                 0.00                  0.0   \n",
              "1376993         300000.0                 0.00                  0.0   \n",
              "485340          120000.0                26.73                  0.0   \n",
              "\n",
              "         lot3_surface_carrez  surface_reelle_bati  code_postal       prix_m2  \n",
              "1364226                  0.0                 75.0      44000.0   4933.333333  \n",
              "1373748                  0.0                 35.0      44000.0   4428.571429  \n",
              "1376531                  0.0                 14.0      44000.0   6428.571429  \n",
              "1376819                  0.0                 88.0      44000.0   5000.000000  \n",
              "1376990                  0.0                 20.0      44000.0  15000.000000  \n",
              "1376991                  0.0                 23.0      44000.0  13043.478261  \n",
              "1376992                  0.0                 20.0      44000.0  15000.000000  \n",
              "1376993                  0.0                 25.0      44000.0  12000.000000  \n",
              "485340                   0.0                 28.0      44000.0   4285.714286  "
            ]
          },
          "execution_count": 201,
          "metadata": {},
          "output_type": "execute_result"
        }
      ],
      "source": [
        "# print(data)\n",
        "data[data.adresse_nom_voie.str.contains(\"GOGUET\")][cols]\n",
        "# data[data.id_mutation=='2021-193424'][cols]\n"
      ]
    }
  ],
  "metadata": {
    "colab": {
      "collapsed_sections": [],
      "name": "DVF.ipynb",
      "provenance": []
    },
    "kernelspec": {
      "display_name": "Python 3.9.6 ('.venv': poetry)",
      "language": "python",
      "name": "python3"
    },
    "language_info": {
      "codemirror_mode": {
        "name": "ipython",
        "version": 3
      },
      "file_extension": ".py",
      "mimetype": "text/x-python",
      "name": "python",
      "nbconvert_exporter": "python",
      "pygments_lexer": "ipython3",
      "version": "3.9.6"
    },
    "vscode": {
      "interpreter": {
        "hash": "473e2d436273508f21baa92615558e057c24e8b5d776cf94c5852169e9e7e9f7"
      }
    }
  },
  "nbformat": 4,
  "nbformat_minor": 2
}
