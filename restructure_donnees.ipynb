{
  "cells": [
    {
      "cell_type": "code",
      "execution_count": 72,
      "metadata": {
        "id": "p80CxLHhzFb6"
      },
      "outputs": [],
      "source": [
        "import pandas as pd\n",
        "import numpy as np\n",
        "import multiprocessing\n",
        "from joblib import Parallel, delayed"
      ]
    },
    {
      "cell_type": "markdown",
      "metadata": {
        "id": "Q06iHs0R3yS8"
      },
      "source": [
        "# Opérations de traitements\n"
      ]
    },
    {
      "cell_type": "code",
      "execution_count": 2,
      "metadata": {
        "id": "55p0KUnmGFo1"
      },
      "outputs": [],
      "source": [
        "def clean_df(df:pd.DataFrame)->pd.DataFrame:\n",
        "  df=df.drop(columns=['ancien_code_commune','ancien_nom_commune','ancien_id_parcelle'])\n",
        "  # Elimination des locaux industriels et commerciaux\n",
        "  mutation_commerciale=df[df.code_type_local==4].id_mutation\n",
        "  df=df[~df.id_mutation.isin(mutation_commerciale)]\n",
        "  coltofill=['valeur_fonciere','nombre_pieces_principales','surface_reelle_bati',\n",
        "            'surface_terrain','lot1_surface_carrez','lot2_surface_carrez',\n",
        "            'lot3_surface_carrez','lot4_surface_carrez','lot5_surface_carrez',\n",
        "            'lot1_numero','lot2_numero','lot3_numero','lot4_numero','lot5_numero',\n",
        "            'adresse_numero','code_postal','numero_volume','longitude','latitude']\n",
        "  df[coltofill]=df[coltofill].fillna(0)\n",
        "  df['code_type_local']=df['code_type_local'].fillna(3)\n",
        "  df['type_local']=df['type_local'].fillna('Dépendance')\n",
        "\n",
        "  coltofill=['adresse_nom_voie','adresse_code_voie','code_nature_culture',\n",
        "            'adresse_suffixe','nature_culture','code_nature_culture_speciale',\n",
        "            'nature_culture_speciale']\n",
        "  df[coltofill]=df[coltofill].fillna('<EMPTY>')\n",
        "  return df\n"
      ]
    },
    {
      "cell_type": "markdown",
      "metadata": {},
      "source": [
        "# Fonctions de transformations des données en version linéarisée"
      ]
    },
    {
      "cell_type": "code",
      "execution_count": 81,
      "metadata": {
        "id": "WICFOGCkIncd"
      },
      "outputs": [],
      "source": [
        "alt_df_cols=[\n",
        "             \"id_mutation\",\n",
        "             'jour_mutation',\n",
        "             'mois_mutation',\n",
        "             'annee_mutation',\n",
        "             \"nature_mutation\",\n",
        "             \"valeur_fonciere\",\n",
        "             \"adresse_numero\",\n",
        "             \"adresse_suffixe\",\n",
        "             'adresse_nom_voie',\n",
        "             'adresse_code_voie',\n",
        "             'code_postal',\n",
        "             'nom_commune',\n",
        "             'code_departement',\n",
        "             'id_parcelle',\n",
        "             'surface_carrez_total',\n",
        "             'surface_reelle_bati_total',\n",
        "             'surface_terrain_total',\n",
        "             'nombre_lots',\n",
        "             'nombre_maisons',\n",
        "             'surface_carrez_maisons',\n",
        "             'surface_reelle_bati_maisons',\n",
        "             'surface_terrain_maisons',\n",
        "             'nombre_appartements',\n",
        "             'surface_carrez_appartements',\n",
        "             'surface_reelle_bati_appartements',\n",
        "             'surface_terrain_appartements',\n",
        "             'nombre_dependances',\n",
        "             'surface_carrez_dependances',\n",
        "             'surface_reelle_bati_dependances',\n",
        "             'surface_terrain_dependances',\n",
        "             'nombre_pieces_principales',\n",
        "             'nature_culture',\n",
        "             'nature_culture_speciale',\n",
        "             'longitude',\n",
        "             'latitude',\n",
        "]\n",
        "\n",
        "def reduce_get_id(df:pd.DataFrame)->int:\n",
        "  type_count=df.code_type_local.value_counts()\n",
        "  if 1 in type_count:\n",
        "    #Maison\n",
        "    if type_count[1]==1:\n",
        "      return df.index.get_loc(df.index[df.code_type_local==1][0])\n",
        "    else:\n",
        "      return np.argmax(df.surface_reelle_bati)\n",
        "  elif 2 in type_count:\n",
        "    # Appartement\n",
        "    if type_count[2]==1:\n",
        "      return df.index.get_loc(df.index[df.code_type_local==2][0])\n",
        "    else:\n",
        "      return np.argmax(df.surface_reelle_bati)\n",
        "  return np.argmax(df.surface_reelle_bati)\n",
        "\n",
        "\n",
        "def fusion_data(df:pd.DataFrame)->pd.Series:\n",
        "  iprinc=reduce_get_id(df)\n",
        "  mut_princ=df.iloc[iprinc]\n",
        "  values=[]\n",
        "  # id_mutation\n",
        "  values.append(mut_princ.id_mutation)\n",
        "  # jour_mutation\n",
        "  date=mut_princ.date_mutation.split('-')\n",
        "  values.append(date[0])\n",
        "  # mois_mutation\n",
        "  values.append(date[1])\n",
        "  # annee_mutation\n",
        "  values.append(date[2])\n",
        "  # nature_mutation\n",
        "  values.append(mut_princ.nature_mutation)\n",
        "  # valeur_fonciere\n",
        "  values.append(mut_princ.valeur_fonciere)\n",
        "  # adresse_numero\n",
        "  values.append(mut_princ.adresse_numero)\n",
        "  # adresse_suffixe\n",
        "  values.append(mut_princ.adresse_suffixe)\n",
        "  # adresse_nom_voie\n",
        "  values.append(mut_princ.adresse_nom_voie)\n",
        "  # adresse_code_voie\n",
        "  values.append(mut_princ.adresse_code_voie)\n",
        "  # code_postal\n",
        "  values.append(mut_princ.code_postal)\n",
        "  # nom_commune\n",
        "  values.append(mut_princ.nom_commune)\n",
        "  # code_departement\n",
        "  values.append(mut_princ.code_departement)\n",
        "  # id_parcelle\n",
        "  values.append(mut_princ.id_parcelle)\n",
        "  # surface_carrez_total\n",
        "  cols_carrez=['lot1_surface_carrez','lot2_surface_carrez','lot3_surface_carrez','lot4_surface_carrez','lot5_surface_carrez']\n",
        "  values.append(df[cols_carrez].sum().sum())\n",
        "  # surface_reelle_bati_total\n",
        "  values.append(df.surface_reelle_bati.sum())\n",
        "  # surface_terrain_total\n",
        "  values.append(df.surface_terrain.sum())\n",
        "  # nombre_lots\n",
        "  values.append(df.nombre_lots.sum())\n",
        "  # nombre_maisons\n",
        "  # surface_carrez_maisons\n",
        "  # surface_reelle_bati_maisons\n",
        "  # surface_terrain_maisons\n",
        "  def surface_divide(indice:int):\n",
        "    # nombre_local\n",
        "    type_locaux=df.code_type_local.value_counts()\n",
        "    values.append(0 if indice not in type_locaux else type_locaux[indice])\n",
        "    # surface_carrez_local\n",
        "    values.append(df[df.code_type_local==indice][cols_carrez].sum().sum())\n",
        "    # surface_reelle_bati_local\n",
        "    values.append(df[df.code_type_local==indice].surface_reelle_bati.sum().sum())\n",
        "    # surface_terrain_local\n",
        "    values.append(df[df.code_type_local==indice].surface_terrain.sum().sum())\n",
        "  surface_divide(1)\n",
        "  # nombre_appartements\n",
        "  # surface_carrez_appartements\n",
        "  # surface_reelle_bati_appartements\n",
        "  # surface_terrain_appartements\n",
        "  surface_divide(2)\n",
        "  # nombre_dependences\n",
        "  # surface_carrez_dependences\n",
        "  # surface_reelle_bati_dependences\n",
        "  # surface_terrain_dependences\n",
        "  surface_divide(3)\n",
        "  # nombre_pieces_principales\n",
        "  values.append(df.nombre_pieces_principales.sum())\n",
        "  # nature_culture\n",
        "  values.append(mut_princ.nature_culture)\n",
        "  # nature_culture_speciale\n",
        "  values.append(mut_princ.nature_culture_speciale)\n",
        "  # longitude\n",
        "  values.append(mut_princ.longitude)\n",
        "  # latitude\n",
        "  values.append(mut_princ.latitude)\n",
        "  return pd.Series({ k:v for k,v in zip(alt_df_cols,values)}, index=alt_df_cols)\n",
        "\n",
        "def applyParallel(dfGrouped, func):\n",
        "    retLst = Parallel(n_jobs=multiprocessing.cpu_count())(delayed(func)(group) for _, group in dfGrouped)\n",
        "    return pd.DataFrame(retLst,columns=alt_df_cols)\n"
      ]
    },
    {
      "cell_type": "markdown",
      "metadata": {},
      "source": [
        "# Traitements des CSV"
      ]
    },
    {
      "cell_type": "code",
      "execution_count": 94,
      "metadata": {
        "colab": {
          "base_uri": "https://localhost:8080/"
        },
        "id": "pfaG0BajmEhD",
        "outputId": "d45080ec-07a6-432b-aa26-a6e4973d4da3"
      },
      "outputs": [
        {
          "name": "stderr",
          "output_type": "stream",
          "text": [
            "C:\\Users\\Romain\\AppData\\Local\\pypoetry\\Cache\\virtualenvs\\dvf-rJvO6ggo-py3.9\\lib\\site-packages\\IPython\\core\\interactiveshell.py:3441: DtypeWarning: Columns (10,12,14,16,17,18,20,22,35,36) have mixed types.Specify dtype option on import or set low_memory=False.\n",
            "  exec(code_obj, self.user_global_ns, self.user_ns)\n"
          ]
        },
        {
          "name": "stdout",
          "output_type": "stream",
          "text": [
            "2020\n"
          ]
        },
        {
          "name": "stderr",
          "output_type": "stream",
          "text": [
            "C:\\Users\\Romain\\AppData\\Local\\pypoetry\\Cache\\virtualenvs\\dvf-rJvO6ggo-py3.9\\lib\\site-packages\\IPython\\core\\interactiveshell.py:3441: DtypeWarning: Columns (10,12,17,18,20,22,24,35,36) have mixed types.Specify dtype option on import or set low_memory=False.\n",
            "  exec(code_obj, self.user_global_ns, self.user_ns)\n"
          ]
        },
        {
          "name": "stdout",
          "output_type": "stream",
          "text": [
            "2021\n"
          ]
        }
      ],
      "source": [
        "for annee in range(2020,2022):\n",
        "  df=pd.read_csv(f\"original/{annee}.csv\",encoding='utf8')\n",
        "  df=clean_df(df)\n",
        "  print(annee)\n",
        "  new_df=applyParallel(df.groupby(\"id_mutation\"), fusion_data)\n",
        "  # new_df=df.groupby(\"id_mutation\").apply(fusion_data)\n",
        "  new_df=new_df.set_index(\"id_mutation\")\n",
        "  new_df.to_csv(f'clean_data/{annee}_cleaned.csv',encoding='utf8')"
      ]
    }
  ],
  "metadata": {
    "colab": {
      "collapsed_sections": [],
      "name": "DVF.ipynb",
      "provenance": []
    },
    "interpreter": {
      "hash": "41a06058e26b072b4f692d05a47eaa2550240e23f4f714851f8e4f756a016242"
    },
    "kernelspec": {
      "display_name": "Python 3.9.6 64-bit ('dvf-rJvO6ggo-py3.9': poetry)",
      "name": "python3"
    },
    "language_info": {
      "codemirror_mode": {
        "name": "ipython",
        "version": 3
      },
      "file_extension": ".py",
      "mimetype": "text/x-python",
      "name": "python",
      "nbconvert_exporter": "python",
      "pygments_lexer": "ipython3",
      "version": "3.9.6"
    }
  },
  "nbformat": 4,
  "nbformat_minor": 2
}
