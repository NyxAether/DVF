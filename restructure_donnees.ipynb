{
  "nbformat": 4,
  "nbformat_minor": 2,
  "metadata": {
    "colab": {
      "name": "DVF.ipynb",
      "provenance": [],
      "collapsed_sections": []
    },
    "kernelspec": {
      "name": "python3",
      "display_name": "Python 3.9.6 64-bit ('dvf-rJvO6ggo-py3.9': poetry)"
    },
    "language_info": {
      "name": "python",
      "version": "3.9.6",
      "mimetype": "text/x-python",
      "codemirror_mode": {
        "name": "ipython",
        "version": 3
      },
      "pygments_lexer": "ipython3",
      "nbconvert_exporter": "python",
      "file_extension": ".py"
    },
    "interpreter": {
      "hash": "41a06058e26b072b4f692d05a47eaa2550240e23f4f714851f8e4f756a016242"
    }
  },
  "cells": [
    {
      "cell_type": "code",
      "execution_count": 1,
      "source": [
        "import pandas as pd\r\n",
        "import numpy as np\r\n",
        "import seaborn as sns\r\n",
        "import csv"
      ],
      "outputs": [],
      "metadata": {
        "id": "p80CxLHhzFb6"
      }
    },
    {
      "cell_type": "markdown",
      "source": [
        "# Opérations de traitements\r\n"
      ],
      "metadata": {
        "id": "Q06iHs0R3yS8"
      }
    },
    {
      "cell_type": "code",
      "execution_count": 5,
      "source": [
        "def clean_df(df:pd.DataFrame)->pd.DataFrame:\r\n",
        "  df=df.drop(columns=['ancien_code_commune','ancien_nom_commune','ancien_id_parcelle'])\r\n",
        "  # Elimination des locaux industriels et commerciaux\r\n",
        "  mutation_commerciale=df[df.code_type_local==4].id_mutation\r\n",
        "  df=df[~df.id_mutation.isin(mutation_commerciale)]\r\n",
        "  coltofill=['valeur_fonciere','nombre_pieces_principales','surface_reelle_bati',\r\n",
        "            'surface_terrain','lot1_surface_carrez','lot2_surface_carrez',\r\n",
        "            'lot3_surface_carrez','lot4_surface_carrez','lot5_surface_carrez',\r\n",
        "            'lot1_numero','lot2_numero','lot3_numero','lot4_numero','lot5_numero',\r\n",
        "            'adresse_numero','code_postal','numero_volume','longitude','latitude']\r\n",
        "  df[coltofill]=df[coltofill].fillna(0)\r\n",
        "  df['code_type_local']=df['code_type_local'].fillna(3)\r\n",
        "  df['type_local']=df['type_local'].fillna('Dépendance')\r\n",
        "\r\n",
        "  coltofill=['adresse_nom_voie','adresse_code_voie','code_nature_culture',\r\n",
        "            'adresse_suffixe','nature_culture','code_nature_culture_speciale',\r\n",
        "            'nature_culture_speciale']\r\n",
        "  df[coltofill]=df[coltofill].fillna('<EMPTY>')\r\n",
        "  return df\r\n"
      ],
      "outputs": [],
      "metadata": {
        "id": "55p0KUnmGFo1"
      }
    },
    {
      "cell_type": "markdown",
      "source": [
        "# Fonctions de transformations des données en version linéarisée"
      ],
      "metadata": {}
    },
    {
      "cell_type": "code",
      "execution_count": 7,
      "source": [
        "alt_df_cols=[\r\n",
        "             \"id_mutation\",\r\n",
        "             'jour_mutation',\r\n",
        "             'mois_mutation',\r\n",
        "             'annee_mutation',\r\n",
        "             \"nature_mutation\",\r\n",
        "             \"valeur_fonciere\",\r\n",
        "             \"adresse_numero\",\r\n",
        "             \"adresse_suffixe\",\r\n",
        "             'adresse_nom_voie',\r\n",
        "             'adresse_code_voie',\r\n",
        "             'code_postal',\r\n",
        "             'nom_commune',\r\n",
        "             'code_departement',\r\n",
        "             'id_parcelle',\r\n",
        "             'surface_carrez_total',\r\n",
        "             'surface_reelle_bati_total',\r\n",
        "             'surface_terrain_total',\r\n",
        "             'nombre_lots',\r\n",
        "             'nombre_maisons',\r\n",
        "             'surface_carrez_maisons',\r\n",
        "             'surface_reelle_bati_maisons',\r\n",
        "             'surface_terrain_maisons',\r\n",
        "             'nombre_appartements',\r\n",
        "             'surface_carrez_appartements',\r\n",
        "             'surface_reelle_bati_appartements',\r\n",
        "             'surface_terrain_appartements',\r\n",
        "             'nombre_dependances',\r\n",
        "             'surface_carrez_dependances',\r\n",
        "             'surface_reelle_bati_dependances',\r\n",
        "             'surface_terrain_dependances',\r\n",
        "             'nombre_pieces_principales',\r\n",
        "             'nature_culture',\r\n",
        "             'nature_culture_speciale',\r\n",
        "             'longitude',\r\n",
        "             'latitude',\r\n",
        "]\r\n",
        "def trouve_vente_principale(df:pd.DataFrame)->int:\r\n",
        "  type_count=df.code_type_local.value_counts()\r\n",
        "  if 1 in type_count:\r\n",
        "    #Maison\r\n",
        "    if type_count[1]==1:\r\n",
        "      return df.index.get_loc(df.index[df.code_type_local==1][0])\r\n",
        "    else:\r\n",
        "      return np.argmax(df.surface_reelle_bati)\r\n",
        "  elif 2 in type_count:\r\n",
        "    # Appartement\r\n",
        "    if type_count[2]==1:\r\n",
        "      return df.index.get_loc(df.index[df.code_type_local==2][0])\r\n",
        "    else:\r\n",
        "      return np.argmax(df.surface_reelle_bati)\r\n",
        "  return np.argmax(df.surface_reelle_bati)\r\n",
        "\r\n",
        "\r\n",
        "\r\n",
        "def fusion_data(df:pd.DataFrame)->list:\r\n",
        "  iprinc=trouve_vente_principale(df)\r\n",
        "  mut_princ=df.iloc[iprinc]\r\n",
        "  values=[]\r\n",
        "  # id_mutation\r\n",
        "  values.append(mut_princ.id_mutation)\r\n",
        "  # jour_mutation\r\n",
        "  date=mut_princ.date_mutation.split('-')\r\n",
        "  values.append(date[0])\r\n",
        "  # mois_mutation\r\n",
        "  values.append(date[1])\r\n",
        "  # annee_mutation\r\n",
        "  values.append(date[2])\r\n",
        "  # nature_mutation\r\n",
        "  values.append(mut_princ.nature_mutation)\r\n",
        "  # valeur_fonciere\r\n",
        "  values.append(mut_princ.valeur_fonciere)\r\n",
        "  # adresse_numero\r\n",
        "  values.append(mut_princ.adresse_numero)\r\n",
        "  # adresse_suffixe\r\n",
        "  values.append(mut_princ.adresse_suffixe)\r\n",
        "  # adresse_nom_voie\r\n",
        "  values.append(mut_princ.adresse_nom_voie)\r\n",
        "  # adresse_code_voie\r\n",
        "  values.append(mut_princ.adresse_code_voie)\r\n",
        "  # code_postal\r\n",
        "  values.append(mut_princ.code_postal)\r\n",
        "  # nom_commune\r\n",
        "  values.append(mut_princ.nom_commune)\r\n",
        "  # code_departement\r\n",
        "  values.append(mut_princ.code_departement)\r\n",
        "  # id_parcelle\r\n",
        "  values.append(mut_princ.id_parcelle)\r\n",
        "  # surface_carrez_total\r\n",
        "  cols_carrez=['lot1_surface_carrez','lot2_surface_carrez','lot3_surface_carrez','lot4_surface_carrez','lot5_surface_carrez']\r\n",
        "  values.append(df[cols_carrez].sum().sum())\r\n",
        "  # surface_reelle_bati_total\r\n",
        "  values.append(df.surface_reelle_bati.sum())\r\n",
        "  # surface_terrain_total\r\n",
        "  values.append(df.surface_terrain.sum())\r\n",
        "  # nombre_lots\r\n",
        "  values.append(df.nombre_lots.sum())\r\n",
        "  # nombre_maisons\r\n",
        "  # surface_carrez_maisons\r\n",
        "  # surface_reelle_bati_maisons\r\n",
        "  # surface_terrain_maisons\r\n",
        "  def surface_divide(indice:int):\r\n",
        "    # nombre_local\r\n",
        "    type_locaux=df.code_type_local.value_counts()\r\n",
        "    values.append(0 if indice not in type_locaux else type_locaux[indice])\r\n",
        "    # surface_carrez_local\r\n",
        "    values.append(df[df.code_type_local==indice][cols_carrez].sum().sum())\r\n",
        "    # surface_reelle_bati_local\r\n",
        "    values.append(df[df.code_type_local==indice].surface_reelle_bati.sum().sum())\r\n",
        "    # surface_terrain_local\r\n",
        "    values.append(df[df.code_type_local==indice].surface_terrain.sum().sum())\r\n",
        "  surface_divide(1)\r\n",
        "  # nombre_appartements\r\n",
        "  # surface_carrez_appartements\r\n",
        "  # surface_reelle_bati_appartements\r\n",
        "  # surface_terrain_appartements\r\n",
        "  surface_divide(2)\r\n",
        "  # nombre_dependences\r\n",
        "  # surface_carrez_dependences\r\n",
        "  # surface_reelle_bati_dependences\r\n",
        "  # surface_terrain_dependences\r\n",
        "  surface_divide(3)\r\n",
        "  # nombre_pieces_principales\r\n",
        "  values.append(df.nombre_pieces_principales.sum())\r\n",
        "  # nature_culture\r\n",
        "  values.append(mut_princ.nature_culture)\r\n",
        "  # nature_culture_speciale\r\n",
        "  values.append(mut_princ.nature_culture_speciale)\r\n",
        "  # longitude\r\n",
        "  values.append(mut_princ.longitude)\r\n",
        "  # latitude\r\n",
        "  values.append(mut_princ.latitude)\r\n",
        "  return values"
      ],
      "outputs": [],
      "metadata": {
        "id": "WICFOGCkIncd"
      }
    },
    {
      "cell_type": "markdown",
      "source": [
        "\r\n",
        "# Division en batch\r\n",
        "\r\n",
        "La division en batch accélère quelque peu la vitesse de traitement car les méthodes de comparaisons sur `==` sont particulièrement longues"
      ],
      "metadata": {}
    },
    {
      "cell_type": "code",
      "execution_count": 8,
      "source": [
        "def divide_muts(nb_div,muts):\r\n",
        "  m_size=len(muts)\r\n",
        "  div_m=[]\r\n",
        "  sub_size=int(m_size/nb_div)\r\n",
        "  for i in range(nb_div-1):\r\n",
        "    div_m.append(muts[i*sub_size:(i+1)*sub_size])\r\n",
        "  else:\r\n",
        "    div_m.append(muts[(nb_div-1)*sub_size:])\r\n",
        "  return div_m"
      ],
      "outputs": [],
      "metadata": {
        "colab": {
          "base_uri": "https://localhost:8080/"
        },
        "id": "8_2wA_lT7XqK",
        "outputId": "f2ecac5b-7081-465f-b08d-627c83d869ec"
      }
    },
    {
      "cell_type": "markdown",
      "source": [
        "# Traitements des CSV"
      ],
      "metadata": {}
    },
    {
      "cell_type": "code",
      "execution_count": null,
      "source": [
        "for annee in range(2016,2021):\r\n",
        "  df=pd.read_csv(f\"original/{annee}.csv\",encoding='utf8')\r\n",
        "  df=clean_df(df)\r\n",
        "  print(annee)\r\n",
        "  with open(f'clean_data/{annee}_cleaned.csv',mode='w',encoding='utf8') as csvfile:\r\n",
        "    mut_ids=df.id_mutation.unique()\r\n",
        "    sub_muts_ids=divide_muts(1000,mut_ids)\r\n",
        "    writer=csv.writer(csvfile)\r\n",
        "    writer.writerow(alt_df_cols)\r\n",
        "    nb_mutations=len(df.id_mutation.unique())\r\n",
        "    print(f\"Total mutations : {nb_mutations}\")\r\n",
        "    size_df=len(df)\r\n",
        "    mutation_done=0\r\n",
        "    for submut in sub_muts_ids:\r\n",
        "      subdf=df[df.id_mutation.isin(submut)] \r\n",
        "      for mut in subdf.id_mutation.unique():\r\n",
        "        one_mut=subdf[subdf.id_mutation.isin([mut])]\r\n",
        "        writer.writerow(fusion_data(one_mut))\r\n",
        "      mutation_done+=len(submut)\r\n",
        "      print(f\"Progression {(mutation_done)*100/nb_mutations:.1f}%\")"
      ],
      "outputs": [],
      "metadata": {
        "colab": {
          "base_uri": "https://localhost:8080/"
        },
        "id": "pfaG0BajmEhD",
        "outputId": "d45080ec-07a6-432b-aa26-a6e4973d4da3"
      }
    }
  ]
}